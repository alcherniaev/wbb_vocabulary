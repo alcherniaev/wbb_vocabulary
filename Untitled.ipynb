{
 "cells": [
  {
   "cell_type": "code",
   "execution_count": 16,
   "metadata": {},
   "outputs": [],
   "source": [
    "from pyspark.sql import SparkSession\n",
    "import pyspark.sql.functions as F"
   ]
  },
  {
   "cell_type": "code",
   "execution_count": 5,
   "metadata": {},
   "outputs": [],
   "source": [
    "spark = SparkSession.builder.appName(\"vocabulary\").getOrCreate()"
   ]
  },
  {
   "cell_type": "code",
   "execution_count": 13,
   "metadata": {},
   "outputs": [],
   "source": [
    "file_name = \"result.json\"\n",
    "wbb_history = spark.read.option(\"multiline\",\"true\").json(file_name)"
   ]
  },
  {
   "cell_type": "code",
   "execution_count": 14,
   "metadata": {},
   "outputs": [
    {
     "name": "stdout",
     "output_type": "stream",
     "text": [
      "root\n",
      " |-- id: long (nullable = true)\n",
      " |-- messages: array (nullable = true)\n",
      " |    |-- element: struct (containsNull = true)\n",
      " |    |    |-- action: string (nullable = true)\n",
      " |    |    |-- actor: string (nullable = true)\n",
      " |    |    |-- actor_id: long (nullable = true)\n",
      " |    |    |-- author: string (nullable = true)\n",
      " |    |    |-- date: string (nullable = true)\n",
      " |    |    |-- edited: string (nullable = true)\n",
      " |    |    |-- forwarded_from: string (nullable = true)\n",
      " |    |    |-- from: string (nullable = true)\n",
      " |    |    |-- from_id: long (nullable = true)\n",
      " |    |    |-- height: long (nullable = true)\n",
      " |    |    |-- id: long (nullable = true)\n",
      " |    |    |-- message_id: long (nullable = true)\n",
      " |    |    |-- photo: string (nullable = true)\n",
      " |    |    |-- poll: struct (nullable = true)\n",
      " |    |    |    |-- answers: array (nullable = true)\n",
      " |    |    |    |    |-- element: struct (containsNull = true)\n",
      " |    |    |    |    |    |-- chosen: boolean (nullable = true)\n",
      " |    |    |    |    |    |-- text: string (nullable = true)\n",
      " |    |    |    |    |    |-- voters: long (nullable = true)\n",
      " |    |    |    |-- closed: boolean (nullable = true)\n",
      " |    |    |    |-- question: string (nullable = true)\n",
      " |    |    |    |-- total_voters: long (nullable = true)\n",
      " |    |    |-- reply_to_message_id: long (nullable = true)\n",
      " |    |    |-- text: string (nullable = true)\n",
      " |    |    |-- title: string (nullable = true)\n",
      " |    |    |-- type: string (nullable = true)\n",
      " |    |    |-- width: long (nullable = true)\n",
      " |-- name: string (nullable = true)\n",
      " |-- type: string (nullable = true)\n",
      "\n"
     ]
    }
   ],
   "source": [
    "wbb_history.printSchema()"
   ]
  },
  {
   "cell_type": "code",
   "execution_count": 10,
   "metadata": {},
   "outputs": [
    {
     "data": {
      "text/plain": [
       "28530"
      ]
     },
     "execution_count": 10,
     "metadata": {},
     "output_type": "execute_result"
    }
   ],
   "source": [
    "wbb_history.count()"
   ]
  },
  {
   "cell_type": "code",
   "execution_count": 15,
   "metadata": {},
   "outputs": [
    {
     "name": "stdout",
     "output_type": "stream",
     "text": [
      "+----------+--------------------+----+--------------+\n",
      "|        id|            messages|name|          type|\n",
      "+----------+--------------------+----+--------------+\n",
      "|9743420098|[[create_channel,...| Wbb|public_channel|\n",
      "+----------+--------------------+----+--------------+\n",
      "\n"
     ]
    }
   ],
   "source": [
    "wbb_history.show(5)"
   ]
  },
  {
   "cell_type": "code",
   "execution_count": 25,
   "metadata": {},
   "outputs": [
    {
     "name": "stdout",
     "output_type": "stream",
     "text": [
      "root\n",
      " |-- messages: array (nullable = true)\n",
      " |    |-- element: struct (containsNull = true)\n",
      " |    |    |-- action: string (nullable = true)\n",
      " |    |    |-- actor: string (nullable = true)\n",
      " |    |    |-- actor_id: long (nullable = true)\n",
      " |    |    |-- author: string (nullable = true)\n",
      " |    |    |-- date: string (nullable = true)\n",
      " |    |    |-- edited: string (nullable = true)\n",
      " |    |    |-- forwarded_from: string (nullable = true)\n",
      " |    |    |-- from: string (nullable = true)\n",
      " |    |    |-- from_id: long (nullable = true)\n",
      " |    |    |-- height: long (nullable = true)\n",
      " |    |    |-- id: long (nullable = true)\n",
      " |    |    |-- message_id: long (nullable = true)\n",
      " |    |    |-- photo: string (nullable = true)\n",
      " |    |    |-- poll: struct (nullable = true)\n",
      " |    |    |    |-- answers: array (nullable = true)\n",
      " |    |    |    |    |-- element: struct (containsNull = true)\n",
      " |    |    |    |    |    |-- chosen: boolean (nullable = true)\n",
      " |    |    |    |    |    |-- text: string (nullable = true)\n",
      " |    |    |    |    |    |-- voters: long (nullable = true)\n",
      " |    |    |    |-- closed: boolean (nullable = true)\n",
      " |    |    |    |-- question: string (nullable = true)\n",
      " |    |    |    |-- total_voters: long (nullable = true)\n",
      " |    |    |-- reply_to_message_id: long (nullable = true)\n",
      " |    |    |-- text: string (nullable = true)\n",
      " |    |    |-- title: string (nullable = true)\n",
      " |    |    |-- type: string (nullable = true)\n",
      " |    |    |-- width: long (nullable = true)\n",
      "\n"
     ]
    }
   ],
   "source": [
    "wbb_history.select(\"messages\").printSchema()"
   ]
  },
  {
   "cell_type": "code",
   "execution_count": null,
   "metadata": {},
   "outputs": [],
   "source": []
  }
 ],
 "metadata": {
  "kernelspec": {
   "display_name": "Python 3",
   "language": "python",
   "name": "python3"
  },
  "language_info": {
   "codemirror_mode": {
    "name": "ipython",
    "version": 3
   },
   "file_extension": ".py",
   "mimetype": "text/x-python",
   "name": "python",
   "nbconvert_exporter": "python",
   "pygments_lexer": "ipython3",
   "version": "3.8.6"
  }
 },
 "nbformat": 4,
 "nbformat_minor": 4
}
